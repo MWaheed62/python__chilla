{
 "cells": [
  {
   "cell_type": "code",
   "execution_count": 2,
   "metadata": {},
   "outputs": [],
   "source": [
    "## this code is a practice session with ammar"
   ]
  },
  {
   "cell_type": "markdown",
   "metadata": {},
   "source": []
  },
  {
   "cell_type": "markdown",
   "metadata": {},
   "source": [
    "## this code is a practice session with ammar"
   ]
  },
  {
   "cell_type": "markdown",
   "metadata": {},
   "source": [
    "we are practicing together"
   ]
  },
  {
   "cell_type": "markdown",
   "metadata": {},
   "source": [
    "Basic Data Types in Python"
   ]
  },
  {
   "cell_type": "code",
   "execution_count": null,
   "metadata": {},
   "outputs": [],
   "source": [
    "# string (categorical data, factors)\n",
    "\"waheed\"\n",
    "\"pythonkachilladobara\"\n",
    "'waheed_khan'\n",
    "\n",
    "\n",
    "#numeric\n",
    "\n",
    "3233455 \n",
    "123455\n",
    "1, 3, 4, 5, 6, 5\n",
    "\n",
    "\n",
    "#list\n",
    "[2, 3 4, 4, 5, 6, 7]\n",
    "\n",
    "#boolean\n",
    "True\n",
    "False\n",
    "\n",
    "\n",
    "#Float (decimals)\n",
    "1.2\n",
    "1.3\n",
    "1.4\n",
    "3.1666666\n",
    "\n",
    "#complex\n",
    "\n",
    "1+2j # when numbers and variables are mix\n",
    "\n",
    "\n",
    "#dictionary (key + value)\n",
    "{'aammar': 6.0, 'Raja': 5.8, 'Rahul': 5.7}\n",
    "{'ali': 6.6}\n",
    "\n",
    "#tuple (Tuples consist of values in parenthesis and separated by comma.)\n",
    "tuple = (1, 2, 3, 4, 5, 6, 7, 8)\n",
    "#set\n",
    "set = {1, 2, 3, 4, 5, 6, 7, }\n",
    "\n",
    "\n",
    "#dateandtime\n",
    "# very important in time series analysis (Data analysis)"
   ]
  },
  {
   "cell_type": "markdown",
   "metadata": {},
   "source": [
    "\n",
    "# Data types in python\n",
    "\n",
    "* Integers\n",
    "* Floating-Point Numbers\n",
    "* Complex Numbers\n",
    "* Strings\n",
    "    * Escape Sequences in Strings\n",
    "    * Raw Strings\n",
    "    * Triple-Quoted Strings\n",
    "* Boolean Type, Boolean Context, and “Truthiness”\n",
    "* Built-In Functions\n",
    "    * Math\n",
    "    * Type Conversion\n",
    "    * Iterables and Iterators\n",
    "    * Composite Data Type\n",
    "    * Classes, Attributes, and Inheritance\n",
    "    * Input/Output\n",
    "    * Variables, References, and Scope\n",
    "    * Miscellaneous\n"
   ]
  },
  {
   "cell_type": "code",
   "execution_count": 5,
   "metadata": {},
   "outputs": [
    {
     "name": "stdout",
     "output_type": "stream",
     "text": [
      "we are learning with baba ammar\n",
      "we are learning with baba ammar\n",
      "we are learning with baba ammar\n",
      "we are learning with baba ammar\n",
      "we are learning with baba ammar\n",
      "we are learning with baba ammar\n",
      "we are learning with baba ammar\n",
      "we are learning with baba ammar\n",
      "we are learning with baba ammar\n",
      "we are learning with baba ammar\n",
      "we are learning with baba ammar\n",
      "we are learning with baba ammar\n",
      "we are learning with baba ammar\n",
      "we are learning with baba ammar\n",
      "we are learning with baba ammar\n",
      "we are learning with baba ammar\n",
      "we are learning with baba ammar\n",
      "we are learning with baba ammar\n",
      "we are learning with baba ammar\n",
      "we are learning with baba ammar\n",
      "we are learning with baba ammar\n",
      "we are learning with baba ammar\n"
     ]
    }
   ],
   "source": [
    "i= 0.5 \n",
    "while(i<=21.5):\n",
    "    print(\"we are learning with baba ammar\")\n",
    "    i = i+1"
   ]
  },
  {
   "cell_type": "code",
   "execution_count": null,
   "metadata": {},
   "outputs": [],
   "source": [
    "i = 0.5\n",
    "while(i <=21.5):\n",
    "    print(\"We are learning wiht baba Ammar\")\n",
    "    i = i + 1"
   ]
  }
 ],
 "metadata": {
  "kernelspec": {
   "display_name": "Python 3.10.8 64-bit",
   "language": "python",
   "name": "python3"
  },
  "language_info": {
   "codemirror_mode": {
    "name": "ipython",
    "version": 3
   },
   "file_extension": ".py",
   "mimetype": "text/x-python",
   "name": "python",
   "nbconvert_exporter": "python",
   "pygments_lexer": "ipython3",
   "version": "3.10.8"
  },
  "orig_nbformat": 4,
  "vscode": {
   "interpreter": {
    "hash": "90085e4cb58c8ef16e4a10de54f4286885805b5a41c935828584591796e591aa"
   }
  }
 },
 "nbformat": 4,
 "nbformat_minor": 2
}
